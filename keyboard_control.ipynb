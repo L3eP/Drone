{
 "cells": [
  {
   "cell_type": "code",
   "execution_count": 2,
   "metadata": {},
   "outputs": [
    {
     "ename": "NameError",
     "evalue": "name 'frame_read' is not defined",
     "output_type": "error",
     "traceback": [
      "\u001b[1;31m---------------------------------------------------------------------------\u001b[0m",
      "\u001b[1;31mNameError\u001b[0m                                 Traceback (most recent call last)",
      "\u001b[1;32mc:\\Users\\yu5f1\\Documents\\Drone\\keyboard_control.ipynb Cell 1\u001b[0m in \u001b[0;36m<cell line: 3>\u001b[1;34m()\u001b[0m\n\u001b[0;32m      <a href='vscode-notebook-cell:/c%3A/Users/yu5f1/Documents/Drone/keyboard_control.ipynb#ch0000000?line=0'>1</a>\u001b[0m \u001b[39mimport\u001b[39;00m \u001b[39mcv2\u001b[39;00m\n\u001b[1;32m----> <a href='vscode-notebook-cell:/c%3A/Users/yu5f1/Documents/Drone/keyboard_control.ipynb#ch0000000?line=2'>3</a>\u001b[0m img \u001b[39m=\u001b[39m frame_read\u001b[39m.\u001b[39mframe\n\u001b[0;32m      <a href='vscode-notebook-cell:/c%3A/Users/yu5f1/Documents/Drone/keyboard_control.ipynb#ch0000000?line=3'>4</a>\u001b[0m cv2\u001b[39m.\u001b[39mimshow(\u001b[39m\"\u001b[39m\u001b[39mTello\u001b[39m\u001b[39m\"\u001b[39m, img)\n",
      "\u001b[1;31mNameError\u001b[0m: name 'frame_read' is not defined"
     ]
    }
   ],
   "source": [
    "import cv2\n",
    "\n",
    "cv2.imshow(\"Tello\")"
   ]
  }
 ],
 "metadata": {
  "kernelspec": {
   "display_name": "Python 3.10.5 64-bit (windows store)",
   "language": "python",
   "name": "python3"
  },
  "language_info": {
   "codemirror_mode": {
    "name": "ipython",
    "version": 3
   },
   "file_extension": ".py",
   "mimetype": "text/x-python",
   "name": "python",
   "nbconvert_exporter": "python",
   "pygments_lexer": "ipython3",
   "version": "3.10.5"
  },
  "orig_nbformat": 4,
  "vscode": {
   "interpreter": {
    "hash": "03e6669d141ff02ac3b5a6f2f92c6a0746346067794afb26866502c0c2d0a3df"
   }
  }
 },
 "nbformat": 4,
 "nbformat_minor": 2
}
